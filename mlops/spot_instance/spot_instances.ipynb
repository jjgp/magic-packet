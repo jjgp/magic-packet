{
 "cells": [
  {
   "cell_type": "code",
   "execution_count": null,
   "metadata": {},
   "outputs": [],
   "source": [
    "import boto3\n",
    "import ipywidgets as widgets\n",
    "import matplotlib.pyplot as plt"
   ]
  },
  {
   "cell_type": "code",
   "execution_count": null,
   "metadata": {},
   "outputs": [],
   "source": [
    "session = boto3.session.Session()\n",
    "ec2 = session.client(\"ec2\")"
   ]
  },
  {
   "cell_type": "code",
   "execution_count": null,
   "metadata": {},
   "outputs": [],
   "source": [
    "def available_zones(ec2):\n",
    "    response = ec2.describe_availability_zones()\n",
    "    availability_zones = response[\"AvailabilityZones\"]\n",
    "    available_zones = [\n",
    "        zone for zone in availability_zones if zone[\"State\"] == \"available\"\n",
    "    ]\n",
    "    return [name[\"ZoneName\"] for name in available_zones]\n",
    "\n",
    "\n",
    "def gpu_instance_types(ec2):\n",
    "    paginator = ec2.get_paginator(\n",
    "        ec2.get_instance_types_from_instance_requirements.__name__\n",
    "    )\n",
    "    page_iterator = paginator.paginate(\n",
    "        ArchitectureTypes=[\"x86_64\"],\n",
    "        VirtualizationTypes=[\"hvm\"],\n",
    "        InstanceRequirements={\n",
    "            \"VCpuCount\": {\"Min\": 1},\n",
    "            \"MemoryMiB\": {\"Min\": 1},\n",
    "            \"InstanceGenerations\": [\"current\"],\n",
    "            \"SpotMaxPricePercentageOverLowestPrice\": 100,\n",
    "            \"OnDemandMaxPricePercentageOverLowestPrice\": 20,\n",
    "            \"AcceleratorTypes\": [\"gpu\"],\n",
    "            \"AcceleratorCount\": {\"Min\": 1},\n",
    "            \"AcceleratorManufacturers\": [\"nvidia\"],\n",
    "            \"AcceleratorNames\": [\"a100\", \"v100\", \"k80\", \"t4\", \"m60\"],\n",
    "        },\n",
    "    )\n",
    "    return [\n",
    "        instance_type[\"InstanceType\"]\n",
    "        for page in page_iterator\n",
    "        for instance_type in page[\"InstanceTypes\"]\n",
    "    ]\n",
    "\n",
    "\n",
    "def spot_supported_instance_types(ec2, instance_types=[]):\n",
    "    paginator = ec2.get_paginator(ec2.describe_instance_types.__name__)\n",
    "    page_iterator = paginator.paginate(\n",
    "        InstanceTypes=instance_types,\n",
    "        Filters=[{\"Name\": \"supported-usage-class\", \"Values\": [\"spot\"]}],\n",
    "    )\n",
    "    return [\n",
    "        instance_type[\"InstanceType\"]\n",
    "        for page in page_iterator\n",
    "        for instance_type in page[\"InstanceTypes\"]\n",
    "    ]"
   ]
  },
  {
   "cell_type": "markdown",
   "metadata": {},
   "source": [
    "# EC2 available locations"
   ]
  },
  {
   "cell_type": "code",
   "execution_count": null,
   "metadata": {},
   "outputs": [],
   "source": [
    "regions_dropdown = widgets.Dropdown(\n",
    "    options=session.get_available_regions(\"ec2\"),\n",
    "    value=session.region_name,\n",
    "    description=\"Region:\",\n",
    ")\n",
    "regions_dropdown"
   ]
  },
  {
   "cell_type": "code",
   "execution_count": null,
   "metadata": {},
   "outputs": [],
   "source": [
    "# Note that ec2 client is reassigned\n",
    "ec2 = session.client(\"ec2\", region_name=regions_dropdown.value)\n",
    "zones_dropdown = widgets.Dropdown(\n",
    "    options=available_zones(ec2),\n",
    "    description=\"Zone:\",\n",
    ")\n",
    "zones_dropdown"
   ]
  },
  {
   "cell_type": "markdown",
   "metadata": {},
   "source": [
    "# Instance type offerings\n",
    "\n",
    "See [get_instance_types_from_instance_requirements](https://boto3.amazonaws.com/v1/documentation/api/latest/reference/services/ec2.html#EC2.Client.get_instance_types_from_instance_requirements), [Recommended GPU Instances](https://docs.aws.amazon.com/dlami/latest/devguide/gpu.html), and [Amazon EC2 Instance Types](https://aws.amazon.com/ec2/instance-types/) for more on instances and GPU offerings"
   ]
  },
  {
   "cell_type": "code",
   "execution_count": null,
   "metadata": {},
   "outputs": [],
   "source": [
    "types = spot_supported_instance_types(ec2, gpu_instance_types(ec2))\n",
    "types_dropdown = widgets.Dropdown(\n",
    "    options=types,\n",
    "    value=\"p2.xlarge\" if \"p2.xlarge\" in types else types[0],\n",
    "    description=\"Type:\",\n",
    ")\n",
    "types_dropdown"
   ]
  },
  {
   "cell_type": "markdown",
   "metadata": {},
   "source": [
    "# Pricing"
   ]
  },
  {
   "cell_type": "code",
   "execution_count": null,
   "metadata": {},
   "outputs": [],
   "source": [
    "response = ec2.describe_spot_price_history(\n",
    "    AvailabilityZone=zones_dropdown.value,\n",
    "    InstanceTypes=[types_dropdown.value],\n",
    "    MaxResults=50,\n",
    ")"
   ]
  },
  {
   "cell_type": "code",
   "execution_count": null,
   "metadata": {},
   "outputs": [],
   "source": [
    "spot_price_history = response[\"SpotPriceHistory\"]\n",
    "prices = [float(item[\"SpotPrice\"]) for item in spot_price_history]\n",
    "time_stamps = [item[\"Timestamp\"].isoformat() for item in spot_price_history]"
   ]
  },
  {
   "cell_type": "code",
   "execution_count": null,
   "metadata": {},
   "outputs": [],
   "source": [
    "plt.xticks(rotation=90)\n",
    "plt.plot(time_stamps, prices)"
   ]
  },
  {
   "cell_type": "code",
   "execution_count": null,
   "metadata": {},
   "outputs": [],
   "source": []
  }
 ],
 "metadata": {
  "kernelspec": {
   "display_name": "Python 3 (ipykernel)",
   "language": "python",
   "name": "python3"
  },
  "language_info": {
   "codemirror_mode": {
    "name": "ipython",
    "version": 3
   },
   "file_extension": ".py",
   "mimetype": "text/x-python",
   "name": "python",
   "nbconvert_exporter": "python",
   "pygments_lexer": "ipython3",
   "version": "3.10.0"
  }
 },
 "nbformat": 4,
 "nbformat_minor": 2
}
