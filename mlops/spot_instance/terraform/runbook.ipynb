{
 "cells": [
  {
   "cell_type": "markdown",
   "metadata": {},
   "source": [
    "For more information on using spot instances to train deep learning models see [Train Deep Learning Models on GPUs using Amazon EC2 Spot Instances](https://aws.amazon.com/blogs/machine-learning/train-deep-learning-models-on-gpus-using-amazon-ec2-spot-instances/)"
   ]
  },
  {
   "cell_type": "code",
   "execution_count": null,
   "metadata": {},
   "outputs": [],
   "source": [
    "import os\n",
    "import sys\n",
    "\n",
    "import boto3\n",
    "\n",
    "# Add the mlops directory to the PYTHONPATH\n",
    "sys.path.insert(0, os.path.abspath(\"../..\"))\n",
    "\n",
    "from mlops.aws.ec2 import available_zones\n",
    "from mlops.key_pair import read_pem_public_key, write_pem_private_key\n",
    "from mlops.terraform_cli import variables_dict_to_options, variables_dict_to_tfvars\n",
    "\n",
    "%load_ext autoreload\n",
    "%autoreload 2"
   ]
  },
  {
   "cell_type": "code",
   "execution_count": null,
   "metadata": {},
   "outputs": [],
   "source": [
    "DEFAULT_INSTANCE_TYPE = \"p2.xlarge\"\n",
    "session = boto3.session.Session()\n",
    "DEFAULT_REGION = session.region_name or \"us-east-1\"\n",
    "DEFAULT_TAG_NAME = \"mpsi\"  # Acronym for magic packet spot instance\n",
    "DEFAULT_KEY_NAME = DEFAULT_TAG_NAME\n",
    "DEFAULT_KEY_PATH = f\"~/.ssh/{DEFAULT_KEY_NAME}.pem\""
   ]
  },
  {
   "cell_type": "markdown",
   "metadata": {},
   "source": [
    "# (Optional) Create an RSA key pair\n",
    "\n",
    "The key pair is used to SSH into the EC2 instance. For more on Amazon EC2 key pairs see [Amazon EC2 key pairs and Linux instances](https://docs.aws.amazon.com/AWSEC2/latest/UserGuide/ec2-key-pairs.html)."
   ]
  },
  {
   "cell_type": "code",
   "execution_count": null,
   "metadata": {},
   "outputs": [],
   "source": [
    "key_path = (\n",
    "    input(f\"Enter the RSA private key path (or {DEFAULT_KEY_PATH}): \")\n",
    "    or DEFAULT_KEY_PATH\n",
    ")\n",
    "write_pem_private_key(\n",
    "    key_path,\n",
    "    input('Enter the passhprase (or \"\"): '),\n",
    ")"
   ]
  },
  {
   "cell_type": "markdown",
   "metadata": {},
   "source": [
    "Make sure to set the proper permissions on the key file ([Connect to your Linux instance using SSH](https://docs.aws.amazon.com/AWSEC2/latest/UserGuide/AccessingInstancesLinux.html))"
   ]
  },
  {
   "cell_type": "code",
   "execution_count": null,
   "metadata": {},
   "outputs": [],
   "source": [
    "!chmod 400 $key_path"
   ]
  },
  {
   "cell_type": "markdown",
   "metadata": {},
   "source": [
    "# Specify terraform input variables"
   ]
  },
  {
   "cell_type": "code",
   "execution_count": null,
   "metadata": {},
   "outputs": [],
   "source": [
    "# These variables are specified in the *.tf files\n",
    "variables = {\n",
    "    \"availability_zone\": \"\",\n",
    "    \"instance_type\": DEFAULT_INSTANCE_TYPE,\n",
    "    \"public_key\": \"\",\n",
    "    \"key_name\": DEFAULT_KEY_NAME,\n",
    "    \"region\": DEFAULT_REGION,\n",
    "    \"tag_name\": DEFAULT_TAG_NAME,\n",
    "}"
   ]
  },
  {
   "cell_type": "code",
   "execution_count": null,
   "metadata": {},
   "outputs": [],
   "source": [
    "# Provide instance type\n",
    "variables[\"instance_type\"] = (\n",
    "    input(f\"Enter the instance type (or {DEFAULT_INSTANCE_TYPE}): \")\n",
    "    or DEFAULT_INSTANCE_TYPE\n",
    ")"
   ]
  },
  {
   "cell_type": "code",
   "execution_count": null,
   "metadata": {},
   "outputs": [],
   "source": [
    "# Retrieve public key from private key file\n",
    "variables[\"public_key\"] = read_pem_public_key(\n",
    "    input(f\"Enter the RSA private key path (or {DEFAULT_KEY_PATH}): \")\n",
    "    or DEFAULT_KEY_PATH\n",
    ")"
   ]
  },
  {
   "cell_type": "code",
   "execution_count": null,
   "metadata": {},
   "outputs": [],
   "source": [
    "# Provide key name\n",
    "variables[\"key_name\"] = (\n",
    "    input(f\"Enter the key name (or {DEFAULT_KEY_NAME}): \") or DEFAULT_KEY_NAME\n",
    ")"
   ]
  },
  {
   "cell_type": "code",
   "execution_count": null,
   "metadata": {},
   "outputs": [],
   "source": [
    "# Provide AWS region\n",
    "variables[\"region\"] = (\n",
    "    input(f\"Enter the AWS region (or {DEFAULT_REGION}): \") or DEFAULT_REGION\n",
    ")"
   ]
  },
  {
   "cell_type": "code",
   "execution_count": null,
   "metadata": {},
   "outputs": [],
   "source": [
    "# Provide the availability zone\n",
    "ec2 = session.client(\"ec2\", region_name=variables[\"region\"])\n",
    "zones = available_zones(ec2)\n",
    "print(f\"Available zones: {zones}\")\n",
    "default_availability_zone = zones[0]\n",
    "variables[\"availability_zone\"] = (\n",
    "    input(f\"Enter the availability zone (or {default_availability_zone}): \")\n",
    "    or default_availability_zone\n",
    ")"
   ]
  },
  {
   "cell_type": "code",
   "execution_count": null,
   "metadata": {},
   "outputs": [],
   "source": [
    "# Provide tag name\n",
    "variables[\"tag_name\"] = (\n",
    "    input(f\"Enter the tag name (or {DEFAULT_TAG_NAME}): \") or DEFAULT_TAG_NAME\n",
    ")"
   ]
  },
  {
   "cell_type": "markdown",
   "metadata": {},
   "source": [
    "# Terraform CLI"
   ]
  },
  {
   "cell_type": "code",
   "execution_count": null,
   "metadata": {},
   "outputs": [],
   "source": [
    "# Creating options string for use in CLI commands\n",
    "options = variables_dict_to_options(variables)\n",
    "options"
   ]
  },
  {
   "cell_type": "markdown",
   "metadata": {},
   "source": [
    "The `plan` subcommand is useful to sanity check what infrastructure terraform will modify in `apply`"
   ]
  },
  {
   "cell_type": "code",
   "execution_count": null,
   "metadata": {},
   "outputs": [],
   "source": [
    "!terraform plan $options"
   ]
  },
  {
   "cell_type": "markdown",
   "metadata": {},
   "source": [
    "`apply` will initiate the spot instance request. Afterwards, if the request is accepted by AWS, an EC2 instance will be accessible over SSH. For more on spot instances see [Spot Instances](https://docs.aws.amazon.com/AWSEC2/latest/UserGuide/using-spot-instances.html).\n",
    "\n",
    "Once the EC2 instance is running it may connected to over SSH ([Connect to your Linux instance using SSH](https://docs.aws.amazon.com/AWSEC2/latest/UserGuide/AccessingInstancesLinux.html)):\n",
    "\n",
    "```sh\n",
    "ssh -i /path/my-key-pair.pem my-instance-user-name@my-instance-public-dns-name\n",
    "```"
   ]
  },
  {
   "cell_type": "code",
   "execution_count": null,
   "metadata": {},
   "outputs": [],
   "source": [
    "!terraform apply -auto-approve $options"
   ]
  },
  {
   "cell_type": "markdown",
   "metadata": {},
   "source": [
    "Once finished with the EC2 instance it is important to run the `destroy` subcommand to cancel the spot instance request. Otherwise, the request may stay open and AWS will try and fulfill it."
   ]
  },
  {
   "cell_type": "code",
   "execution_count": null,
   "metadata": {},
   "outputs": [],
   "source": [
    "!terraform destroy -auto-approve $options"
   ]
  },
  {
   "cell_type": "markdown",
   "metadata": {},
   "source": [
    "## Save the variables to a variables file\n",
    "\n",
    "Optionally, we may save the variable values to a `.tfvars` file for subsequent access. *Keep in mind* some of the AWS values, such as spot instance, are ephemeral. If the file is named `terraform.tfvars` or ends in `.auto.tfvars` then it will automatically be loaded by the CLI."
   ]
  },
  {
   "cell_type": "code",
   "execution_count": null,
   "metadata": {},
   "outputs": [],
   "source": [
    "variables_dict_to_tfvars(variables)"
   ]
  },
  {
   "cell_type": "code",
   "execution_count": null,
   "metadata": {},
   "outputs": [],
   "source": [
    "!cat terraform.tfvars"
   ]
  },
  {
   "cell_type": "code",
   "execution_count": null,
   "metadata": {},
   "outputs": [],
   "source": [
    "!terraform plan"
   ]
  },
  {
   "cell_type": "code",
   "execution_count": null,
   "metadata": {},
   "outputs": [],
   "source": [
    "!terraform apply -auto-approve"
   ]
  },
  {
   "cell_type": "code",
   "execution_count": null,
   "metadata": {},
   "outputs": [],
   "source": [
    "!terraform destroy -auto-approve"
   ]
  },
  {
   "cell_type": "code",
   "execution_count": null,
   "metadata": {},
   "outputs": [],
   "source": []
  }
 ],
 "metadata": {
  "interpreter": {
   "hash": "258d31df22b017b55b7ed215ff7e70bf14711bb89d8b241a2c12fb1094a01a70"
  },
  "kernelspec": {
   "display_name": "Python 3 (ipykernel)",
   "language": "python",
   "name": "python3"
  },
  "language_info": {
   "codemirror_mode": {
    "name": "ipython",
    "version": 3
   },
   "file_extension": ".py",
   "mimetype": "text/x-python",
   "name": "python",
   "nbconvert_exporter": "python",
   "pygments_lexer": "ipython3",
   "version": "3.10.0"
  }
 },
 "nbformat": 4,
 "nbformat_minor": 2
}
