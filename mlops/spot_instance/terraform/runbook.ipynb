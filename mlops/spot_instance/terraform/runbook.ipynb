{
 "cells": [
  {
   "cell_type": "markdown",
   "metadata": {},
   "source": [
    "For more information on using spot instances to train deep learning models see [Train Deep Learning Models on GPUs using Amazon EC2 Spot Instances](https://aws.amazon.com/blogs/machine-learning/train-deep-learning-models-on-gpus-using-amazon-ec2-spot-instances/)"
   ]
  },
  {
   "cell_type": "code",
   "execution_count": null,
   "metadata": {},
   "outputs": [],
   "source": [
    "import os\n",
    "import sys\n",
    "from pathlib import Path\n",
    "\n",
    "import ipywidgets as widgets\n",
    "\n",
    "# Add the mlops parent directory to the PYTHONPATH\n",
    "sys.path.insert(0, os.path.abspath(\"../..\"))\n",
    "\n",
    "from mlops.key_pair import read_public_key_from_pem, write_private_key_to_pem\n",
    "\n",
    "%load_ext autoreload\n",
    "%autoreload 2"
   ]
  },
  {
   "cell_type": "code",
   "execution_count": null,
   "metadata": {},
   "outputs": [],
   "source": [
    "DEFAULT_PEM_PATH = \"~/.ssh/mpsi.pem\"\n",
    "pem_path = \"\"\n",
    "public_key = \"\""
   ]
  },
  {
   "cell_type": "markdown",
   "metadata": {},
   "source": [
    "# (Optional) Create an RSA key pair\n",
    "\n",
    "The key pair is used to SSH into the EC2 instance. For more on Amazon EC2 key pairs see [Amazon EC2 key pairs and Linux instances](https://docs.aws.amazon.com/AWSEC2/latest/UserGuide/ec2-key-pairs.html)."
   ]
  },
  {
   "cell_type": "code",
   "execution_count": null,
   "metadata": {},
   "outputs": [],
   "source": [
    "pem_path = (\n",
    "    input(f\"Enter the PEM path to write the RSA private key (or {DEFAULT_PEM_PATH}): \")\n",
    "    or DEFAULT_PEM_PATH\n",
    ")\n",
    "write_private_key_to_pem(pem_path, input('Enter the passhprase (or \"\"): '))"
   ]
  },
  {
   "cell_type": "markdown",
   "metadata": {},
   "source": [
    "Make sure to set the proper permissions on the key file ([Connect to your Linux instance using SSH](https://docs.aws.amazon.com/AWSEC2/latest/UserGuide/AccessingInstancesLinux.html))"
   ]
  },
  {
   "cell_type": "code",
   "execution_count": null,
   "metadata": {},
   "outputs": [],
   "source": [
    "!chmod 400 $pem_path"
   ]
  },
  {
   "cell_type": "markdown",
   "metadata": {},
   "source": [
    "# Specify terraform input variables"
   ]
  },
  {
   "cell_type": "markdown",
   "metadata": {},
   "source": [
    "Inputs to read the public key from the PEM containing the private key"
   ]
  },
  {
   "cell_type": "code",
   "execution_count": null,
   "metadata": {},
   "outputs": [],
   "source": [
    "pem_path = (\n",
    "    input(\n",
    "        f\"Enter the PEM path containing the RSA private key (or {DEFAULT_PEM_PATH}): \"\n",
    "    )\n",
    "    or DEFAULT_PEM_PATH\n",
    ")\n",
    "password = input('Enter the password (or \"\"): ') or None\n",
    "public_key = read_public_key_from_pem(pem_path, password)\n",
    "public_key"
   ]
  },
  {
   "cell_type": "markdown",
   "metadata": {},
   "source": [
    "Writing a `.tvars` file for easier invocation of the terraform commands"
   ]
  },
  {
   "cell_type": "code",
   "execution_count": null,
   "metadata": {},
   "outputs": [],
   "source": [
    "key_name = Path(pem_path).stem\n",
    "template_tfvars = f\"\"\"ami               = \"ami-4c5c6e29\"\n",
    "availability_zone = \"us-east-1a\"\n",
    "instance_type     = \"p2.xlarge\"\n",
    "key_name          = \"{key_name}\"\n",
    "public_key        = \"{public_key}\"\n",
    "region            = \"us-east-1\"\n",
    "spot_price        = \"0.3\"\n",
    "tag_name          = \"mpsi\"\n",
    "\"\"\"\n",
    "\n",
    "\n",
    "def write_tfvars(value):\n",
    "    with open(\"terraform.tfvars\", \"w\") as tfvars:\n",
    "        tfvars.write(value)\n",
    "\n",
    "\n",
    "write_tfvars(template_tfvars)\n",
    "\n",
    "# Displaying textarea widget for editting of the .tfvars\n",
    "layout = widgets.Layout(width=\"100%\", height=\"100px\")\n",
    "text_area = widgets.Textarea(\n",
    "    value=template_tfvars, description=\"tfvars:\", continuous_update=False, layout=layout\n",
    ")\n",
    "text_area.observe(lambda change: write_tfvars(change[\"new\"]), names=\"value\")\n",
    "text_area"
   ]
  },
  {
   "cell_type": "markdown",
   "metadata": {},
   "source": [
    "# Terraform CLI"
   ]
  },
  {
   "cell_type": "markdown",
   "metadata": {},
   "source": [
    "The `plan` subcommand is useful to sanity check what infrastructure terraform will modify in `apply`"
   ]
  },
  {
   "cell_type": "code",
   "execution_count": null,
   "metadata": {},
   "outputs": [],
   "source": [
    "!terraform plan"
   ]
  },
  {
   "cell_type": "markdown",
   "metadata": {},
   "source": [
    "`apply` will initiate the spot instance request. Afterwards, if the request is accepted by AWS, an EC2 instance will be accessible over SSH. For more on spot instances see [Spot Instances](https://docs.aws.amazon.com/AWSEC2/latest/UserGuide/using-spot-instances.html).\n",
    "\n",
    "Once the EC2 instance is running it may connected to over SSH ([Connect to your Linux instance using SSH](https://docs.aws.amazon.com/AWSEC2/latest/UserGuide/AccessingInstancesLinux.html)):\n",
    "\n",
    "```sh\n",
    "ssh -i /path/my-key-pair.pem my-instance-user-name@my-instance-public-dns-name\n",
    "```"
   ]
  },
  {
   "cell_type": "code",
   "execution_count": null,
   "metadata": {},
   "outputs": [],
   "source": [
    "!terraform apply -auto-approve"
   ]
  },
  {
   "cell_type": "markdown",
   "metadata": {},
   "source": [
    "Once finished with the EC2 instance it is important to run the `destroy` subcommand to cancel the spot instance request. Otherwise, the request may stay open and AWS will try and fulfill it."
   ]
  },
  {
   "cell_type": "code",
   "execution_count": null,
   "metadata": {},
   "outputs": [],
   "source": [
    "!terraform destroy -auto-approve"
   ]
  },
  {
   "cell_type": "code",
   "execution_count": null,
   "metadata": {},
   "outputs": [],
   "source": []
  }
 ],
 "metadata": {
  "interpreter": {
   "hash": "258d31df22b017b55b7ed215ff7e70bf14711bb89d8b241a2c12fb1094a01a70"
  },
  "kernelspec": {
   "display_name": "Python 3 (ipykernel)",
   "language": "python",
   "name": "python3"
  },
  "language_info": {
   "codemirror_mode": {
    "name": "ipython",
    "version": 3
   },
   "file_extension": ".py",
   "mimetype": "text/x-python",
   "name": "python",
   "nbconvert_exporter": "python",
   "pygments_lexer": "ipython3",
   "version": "3.10.0"
  }
 },
 "nbformat": 4,
 "nbformat_minor": 2
}
