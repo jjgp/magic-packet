{
 "cells": [
  {
   "cell_type": "code",
   "execution_count": null,
   "metadata": {},
   "outputs": [],
   "source": [
    "import os\n",
    "import sys\n",
    "\n",
    "import boto3\n",
    "import matplotlib.pyplot as plt\n",
    "\n",
    "# Add the mlops directory to the PYTHONPATH\n",
    "sys.path.insert(0, os.path.abspath(\"..\"))\n",
    "\n",
    "from aws.ec2 import available_zones, gpu_instance_types, spot_supported_instance_types\n",
    "from ipywidgets import widgets\n",
    "\n",
    "%load_ext autoreload\n",
    "%autoreload 2"
   ]
  },
  {
   "cell_type": "code",
   "execution_count": null,
   "metadata": {},
   "outputs": [],
   "source": [
    "session = boto3.session.Session()\n",
    "ec2 = session.client(\"ec2\")"
   ]
  },
  {
   "cell_type": "markdown",
   "metadata": {},
   "source": [
    "# EC2 available locations"
   ]
  },
  {
   "cell_type": "code",
   "execution_count": null,
   "metadata": {},
   "outputs": [],
   "source": [
    "regions = session.get_available_regions(\"ec2\")\n",
    "regions_dropdown = widgets.Dropdown(\n",
    "    options=regions,\n",
    "    value=session.region_name,\n",
    "    description=\"Region:\",\n",
    ")\n",
    "regions_dropdown"
   ]
  },
  {
   "cell_type": "code",
   "execution_count": null,
   "metadata": {},
   "outputs": [],
   "source": [
    "# Note that ec2 client is reassigned\n",
    "ec2 = session.client(\"ec2\", region_name=regions_dropdown.value)\n",
    "zones = available_zones(ec2)\n",
    "zones_dropdown = widgets.Dropdown(\n",
    "    options=zones,\n",
    "    description=\"Zone:\",\n",
    ")\n",
    "zones_dropdown"
   ]
  },
  {
   "cell_type": "markdown",
   "metadata": {},
   "source": [
    "# Instance type offerings\n",
    "\n",
    "See [get_instance_types_from_instance_requirements](https://boto3.amazonaws.com/v1/documentation/api/latest/reference/services/ec2.html#EC2.Client.get_instance_types_from_instance_requirements), [Recommended GPU Instances](https://docs.aws.amazon.com/dlami/latest/devguide/gpu.html), and [Amazon EC2 Instance Types](https://aws.amazon.com/ec2/instance-types/) for more on instances and GPU offerings"
   ]
  },
  {
   "cell_type": "code",
   "execution_count": null,
   "metadata": {},
   "outputs": [],
   "source": [
    "types = spot_supported_instance_types(ec2, gpu_instance_types(ec2))\n",
    "types_dropdown = widgets.Dropdown(\n",
    "    options=types,\n",
    "    value=\"p2.xlarge\" if \"p2.xlarge\" in types else types[0],\n",
    "    description=\"Type:\",\n",
    ")\n",
    "types_dropdown"
   ]
  },
  {
   "cell_type": "markdown",
   "metadata": {},
   "source": [
    "# Pricing"
   ]
  },
  {
   "cell_type": "code",
   "execution_count": null,
   "metadata": {},
   "outputs": [],
   "source": [
    "response = ec2.describe_spot_price_history(\n",
    "    AvailabilityZone=zones_dropdown.value,\n",
    "    InstanceTypes=[types_dropdown.value],\n",
    "    MaxResults=50,\n",
    ")\n",
    "\n",
    "spot_price_history = response[\"SpotPriceHistory\"]\n",
    "prices = [float(item[\"SpotPrice\"]) for item in spot_price_history]\n",
    "time_stamps = [item[\"Timestamp\"].isoformat() for item in spot_price_history]\n",
    "\n",
    "plt.xticks(rotation=90)\n",
    "plt.plot(time_stamps, prices)"
   ]
  },
  {
   "cell_type": "code",
   "execution_count": null,
   "metadata": {},
   "outputs": [],
   "source": []
  },
  {
   "cell_type": "code",
   "execution_count": null,
   "metadata": {},
   "outputs": [],
   "source": []
  }
 ],
 "metadata": {
  "kernelspec": {
   "display_name": "Python 3 (ipykernel)",
   "language": "python",
   "name": "python3"
  },
  "language_info": {
   "codemirror_mode": {
    "name": "ipython",
    "version": 3
   },
   "file_extension": ".py",
   "mimetype": "text/x-python",
   "name": "python",
   "nbconvert_exporter": "python",
   "pygments_lexer": "ipython3",
   "version": "3.10.0"
  }
 },
 "nbformat": 4,
 "nbformat_minor": 2
}
