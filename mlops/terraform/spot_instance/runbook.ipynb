{
 "cells": [
  {
   "cell_type": "code",
   "execution_count": null,
   "metadata": {},
   "outputs": [],
   "source": [
    "import os\n",
    "\n",
    "from cryptography.hazmat.primitives import serialization\n",
    "from cryptography.hazmat.primitives.asymmetric import rsa"
   ]
  },
  {
   "cell_type": "code",
   "execution_count": null,
   "metadata": {},
   "outputs": [],
   "source": [
    "default_key_path = \"~/.ssh/magic_packet.pem\"\n",
    "default_key_name = \"magic_packet\"\n",
    "default_region = \"us-east-1\"  # TODO: use aws sdk to retrieve this from config"
   ]
  },
  {
   "cell_type": "markdown",
   "metadata": {},
   "source": [
    "# RSA key pair\n",
    "\n",
    "The key pair is used to SSH into the EC2 instance. For more on Amazon EC2 key pairs see [Amazon EC2 key pairs and Linux instances](https://docs.aws.amazon.com/AWSEC2/latest/UserGuide/ec2-key-pairs.html)."
   ]
  },
  {
   "cell_type": "code",
   "execution_count": null,
   "metadata": {},
   "outputs": [],
   "source": [
    "def read_public_key(private_key_path):\n",
    "    key_path = os.path.expanduser(private_key_path)\n",
    "    with open(key_path, \"rb\") as key_file:\n",
    "        private_key = serialization.load_pem_private_key(key_file.read(), password=None)\n",
    "        public_key = private_key.public_key()\n",
    "        public_bytes = public_key.public_bytes(\n",
    "            serialization.Encoding.OpenSSH, serialization.PublicFormat.OpenSSH\n",
    "        )\n",
    "        return public_bytes.decode(\"utf-8\")"
   ]
  },
  {
   "cell_type": "code",
   "execution_count": null,
   "metadata": {},
   "outputs": [],
   "source": [
    "def write_private_key(private_key_path, passphrase):\n",
    "    private_key = rsa.generate_private_key(\n",
    "        public_exponent=65537,\n",
    "        key_size=2048,\n",
    "    )\n",
    "    key_path = os.path.expanduser(private_key_path)\n",
    "    encryption_algorithm = (\n",
    "        serialization.BestAvailableEncryption(passphrase)\n",
    "        if passphrase\n",
    "        else serialization.NoEncryption()\n",
    "    )\n",
    "    with open(key_path, \"wb\") as key_file:\n",
    "        key_file.write(\n",
    "            private_key.private_bytes(\n",
    "                encoding=serialization.Encoding.PEM,\n",
    "                format=serialization.PrivateFormat.TraditionalOpenSSL,\n",
    "                encryption_algorithm=encryption_algorithm,\n",
    "            )\n",
    "        )"
   ]
  },
  {
   "cell_type": "markdown",
   "metadata": {},
   "source": [
    "## (Optional) Create an RSA key pair"
   ]
  },
  {
   "cell_type": "code",
   "execution_count": null,
   "metadata": {},
   "outputs": [],
   "source": [
    "key_path = (\n",
    "    input(f\"Enter the RSA private key path (or {default_key_path}): \")\n",
    "    or default_key_path\n",
    ")\n",
    "write_private_key(\n",
    "    key_path,\n",
    "    input('Enter the passhprase (or \"\"): '),\n",
    ")"
   ]
  },
  {
   "cell_type": "markdown",
   "metadata": {},
   "source": [
    "Make sure to set the proper permissions on the key file ([Connect to your Linux instance using SSH](https://docs.aws.amazon.com/AWSEC2/latest/UserGuide/AccessingInstancesLinux.html))"
   ]
  },
  {
   "cell_type": "code",
   "execution_count": null,
   "metadata": {},
   "outputs": [],
   "source": [
    "!chmod 400 $key_path"
   ]
  },
  {
   "cell_type": "markdown",
   "metadata": {},
   "source": [
    "# Specify terraform input variables"
   ]
  },
  {
   "cell_type": "code",
   "execution_count": null,
   "metadata": {},
   "outputs": [],
   "source": [
    "# These variables are specified in the *.tf files\n",
    "variables = {\n",
    "    \"public_key\": \"\",\n",
    "    \"key_name\": default_key_name,\n",
    "    \"region\": default_region,\n",
    "}"
   ]
  },
  {
   "cell_type": "code",
   "execution_count": null,
   "metadata": {},
   "outputs": [],
   "source": [
    "# Retrieve public key from private key file\n",
    "variables[\"public_key\"] = read_public_key(\n",
    "    input(f\"Enter the RSA private key path (or {default_key_path}): \")\n",
    "    or default_key_path\n",
    ")"
   ]
  },
  {
   "cell_type": "code",
   "execution_count": null,
   "metadata": {},
   "outputs": [],
   "source": [
    "# Provide key name\n",
    "variables[\"key_name\"] = (\n",
    "    input(f\"Enter the key name (or {default_key_name}): \") or default_key_name\n",
    ")"
   ]
  },
  {
   "cell_type": "code",
   "execution_count": null,
   "metadata": {},
   "outputs": [],
   "source": [
    "# Provide AWS region\n",
    "variables[\"region\"] = (\n",
    "    input(f\"Enter the AWS region (or {default_region}): \") or default_region\n",
    ")"
   ]
  },
  {
   "cell_type": "markdown",
   "metadata": {},
   "source": [
    "# Terraform CLI"
   ]
  },
  {
   "cell_type": "code",
   "execution_count": null,
   "metadata": {},
   "outputs": [],
   "source": [
    "# Creating options string for use in CLI commands\n",
    "values = [f'\"{key}={value}\"' for key, value in variables.items()]\n",
    "flags = [\"-var\"] * len(values)\n",
    "options = \" \".join([arg for tup in zip(flags, values) for arg in tup])\n",
    "options"
   ]
  },
  {
   "cell_type": "markdown",
   "metadata": {},
   "source": [
    "The `plan` subcommand is useful to sanity check what infrastructure terraform will modify in `apply`"
   ]
  },
  {
   "cell_type": "code",
   "execution_count": null,
   "metadata": {},
   "outputs": [],
   "source": [
    "!terraform plan $options"
   ]
  },
  {
   "cell_type": "markdown",
   "metadata": {},
   "source": [
    "`apply` will initiate the spot instance request. Afterwards, if the request is accepted by AWS, an EC2 instance will be accessible over SSH. For more on spot instances see [Spot Instances](https://docs.aws.amazon.com/AWSEC2/latest/UserGuide/using-spot-instances.html).\n",
    "\n",
    "Once the EC2 instance is running it may connected to over SSH ([Connect to your Linux instance using SSH](https://docs.aws.amazon.com/AWSEC2/latest/UserGuide/AccessingInstancesLinux.html)):\n",
    "\n",
    "```sh\n",
    "ssh -i /path/my-key-pair.pem my-instance-user-name@my-instance-public-dns-name\n",
    "```"
   ]
  },
  {
   "cell_type": "code",
   "execution_count": null,
   "metadata": {},
   "outputs": [],
   "source": [
    "!terraform apply -auto-approve $options"
   ]
  },
  {
   "cell_type": "markdown",
   "metadata": {},
   "source": [
    "Once finished with the EC2 instance it is important to run the `destroy` subcommand to cancel the spot instance request. Otherwise, the request may stay open and AWS will try and fulfill it."
   ]
  },
  {
   "cell_type": "code",
   "execution_count": null,
   "metadata": {},
   "outputs": [],
   "source": [
    "!terraform destroy -auto-approve $options"
   ]
  },
  {
   "cell_type": "code",
   "execution_count": null,
   "metadata": {},
   "outputs": [],
   "source": []
  }
 ],
 "metadata": {
  "interpreter": {
   "hash": "258d31df22b017b55b7ed215ff7e70bf14711bb89d8b241a2c12fb1094a01a70"
  },
  "kernelspec": {
   "display_name": "Python 3 (ipykernel)",
   "language": "python",
   "name": "python3"
  },
  "language_info": {
   "codemirror_mode": {
    "name": "ipython",
    "version": 3
   },
   "file_extension": ".py",
   "mimetype": "text/x-python",
   "name": "python",
   "nbconvert_exporter": "python",
   "pygments_lexer": "ipython3",
   "version": "3.10.0"
  }
 },
 "nbformat": 4,
 "nbformat_minor": 2
}
