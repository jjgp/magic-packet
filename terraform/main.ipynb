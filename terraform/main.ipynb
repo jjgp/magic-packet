{
 "cells": [
  {
   "cell_type": "code",
   "execution_count": null,
   "metadata": {},
   "outputs": [],
   "source": [
    "import os\n",
    "\n",
    "from cryptography.hazmat.primitives import serialization"
   ]
  },
  {
   "cell_type": "code",
   "execution_count": null,
   "metadata": {},
   "outputs": [],
   "source": [
    "default_key_path = \"~/.ssh/magic_packet.pem\"\n",
    "default_key_name = \"magic_packet\"\n",
    "default_region = \"us-east-1\"  # TODO: use aws sdk to retrieve this from config\n",
    "variables = {\n",
    "    \"public_key\": \"\",\n",
    "    \"key_name\": default_key_name,\n",
    "    \"region\": default_region,\n",
    "}"
   ]
  },
  {
   "cell_type": "code",
   "execution_count": null,
   "metadata": {},
   "outputs": [],
   "source": [
    "# Retrieve public key from private key file\n",
    "key_path = (\n",
    "    input(f\"Enter the RSA private key path (or {default_key_path}): \")\n",
    "    or default_key_path\n",
    ")\n",
    "key_path = os.path.expanduser(key_path)\n",
    "with open(key_path, \"rb\") as key_file:\n",
    "    private_key = serialization.load_pem_private_key(\n",
    "        key_file.read(),\n",
    "        password=None,\n",
    "    )\n",
    "    public_key = private_key.public_key()\n",
    "    public_bytes = public_key.public_bytes(\n",
    "        serialization.Encoding.OpenSSH, serialization.PublicFormat.OpenSSH\n",
    "    )\n",
    "    variables[\"public_key\"] = public_bytes.decode(\"utf-8\")"
   ]
  },
  {
   "cell_type": "code",
   "execution_count": null,
   "metadata": {},
   "outputs": [],
   "source": [
    "# Provide key name\n",
    "variables[\"key_name\"] = (\n",
    "    input(f\"Enter the key name (or {default_key_name}): \") or default_key_name\n",
    ")"
   ]
  },
  {
   "cell_type": "code",
   "execution_count": null,
   "metadata": {},
   "outputs": [],
   "source": [
    "# Provide AWS region\n",
    "variables[\"region\"] = (\n",
    "    input(f\"Enter the AWS region (or {default_region}): \") or default_region\n",
    ")"
   ]
  },
  {
   "cell_type": "code",
   "execution_count": null,
   "metadata": {},
   "outputs": [],
   "source": [
    "values = [f'\"{key}={value}\"' for key, value in variables.items()]\n",
    "flags = [\"-var\"] * len(values)\n",
    "options = \" \".join([arg for tup in zip(flags, values) for arg in tup])"
   ]
  },
  {
   "cell_type": "code",
   "execution_count": null,
   "metadata": {},
   "outputs": [],
   "source": [
    "!terraform plan $options"
   ]
  },
  {
   "cell_type": "code",
   "execution_count": null,
   "metadata": {},
   "outputs": [],
   "source": [
    "!terraform apply -auto-approve $options"
   ]
  },
  {
   "cell_type": "code",
   "execution_count": null,
   "metadata": {},
   "outputs": [],
   "source": [
    "!terraform destroy -auto-approve $options"
   ]
  },
  {
   "cell_type": "code",
   "execution_count": null,
   "metadata": {},
   "outputs": [],
   "source": []
  }
 ],
 "metadata": {
  "interpreter": {
   "hash": "258d31df22b017b55b7ed215ff7e70bf14711bb89d8b241a2c12fb1094a01a70"
  },
  "kernelspec": {
   "display_name": "Python 3 (ipykernel)",
   "language": "python",
   "name": "python3"
  },
  "language_info": {
   "codemirror_mode": {
    "name": "ipython",
    "version": 3
   },
   "file_extension": ".py",
   "mimetype": "text/x-python",
   "name": "python",
   "nbconvert_exporter": "python",
   "pygments_lexer": "ipython3",
   "version": "3.10.0"
  }
 },
 "nbformat": 4,
 "nbformat_minor": 2
}
